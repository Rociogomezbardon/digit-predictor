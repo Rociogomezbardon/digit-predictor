{
 "cells": [
  {
   "cell_type": "code",
   "execution_count": 4,
   "metadata": {},
   "outputs": [
    {
     "name": "stdout",
     "output_type": "stream",
     "text": [
      "(0, 1)\n",
      "(0, 2)\n",
      "(0, 3)\n",
      "(0, 4)\n",
      "(1, 2)\n",
      "(1, 3)\n",
      "(1, 4)\n",
      "(2, 3)\n",
      "(2, 4)\n",
      "(3, 4)\n"
     ]
    }
   ],
   "source": [
    "import itertools\n",
    "for i in itertools.combinations([0,1,2,3,4], 2):\n",
    "    print(i)"
   ]
  },
  {
   "cell_type": "code",
   "execution_count": null,
   "metadata": {},
   "outputs": [],
   "source": [
    "def getIntersection(pair_of_lines):\n",
    "    line1, line2 = pair_of_lines\n",
    "    s1 = np.array(line1[0])\n",
    "    e1 = np.array(line1[1])\n",
    "    s2 = np.array(line2[0])\n",
    "    e2 = np.array(line2[1])\n",
    "    if(s1[0]==e1[0] and s2[0]==e2[0]): #both vertical lines\n",
    "        return False\n",
    "    elif(s1[0]!=e1[0] and s2[0]!=e2[0]): #none of them are vertical lines\n",
    "        a1 = (s1[1] - e1[1]) / (s1[0] - e1[0])\n",
    "        b1 = s1[1] - (a1 * s1[0])\n",
    "        a2 = (s2[1] - e2[1]) / (s2[0] - e2[0])\n",
    "        b2 = s2[1] - (a2 * s2[0])\n",
    "        if abs(a1 - a2) < sys.float_info.epsilon: #paralel\n",
    "            return False\n",
    "        x = (b2 - b1) / (a1 - a2)\n",
    "        y = a1 * x + b1\n",
    "    elif(s1[0]==e1[0]): #line1 is vertical line\n",
    "        x = s1[0]\n",
    "        a2 = (s2[1] - e2[1]) / (s2[0] - e2[0])\n",
    "        b2 = s2[1] - (a2 * s2[0])\n",
    "        y = a2 * x + b2\n",
    "    elif(s2[0]==e2[0]): #line1 is vertical line\n",
    "        x = s2[0]\n",
    "        a1 = (s1[1] - e1[1]) / (s1[0] - e1[0])\n",
    "        b1 = s1[1] - (a1 * s1[0])\n",
    "        y = a1 * x + b1\n",
    "    return (x, y)\n",
    "\n",
    "def line_as_points(l):\n",
    "    r, theta = l[0]\n",
    "    a = np.cos(theta)\n",
    "    b = np.sin(theta)\n",
    "    x0 = a*r\n",
    "    y0 = b*r\n",
    "    x1 = int(x0 + 1000*(-b))\n",
    "    y1 = int(y0 + 1000*(a))\n",
    "    x2 = int(x0 - 1000*(-b))\n",
    "    y2 = int(y0 - 1000*(a))\n",
    "    return (x1,y1), (x2,y2)\n"
   ]
  }
 ],
 "metadata": {
  "kernelspec": {
   "display_name": "Python 3",
   "language": "python",
   "name": "python3"
  },
  "language_info": {
   "codemirror_mode": {
    "name": "ipython",
    "version": 3
   },
   "file_extension": ".py",
   "mimetype": "text/x-python",
   "name": "python",
   "nbconvert_exporter": "python",
   "pygments_lexer": "ipython3",
   "version": "3.7.4"
  }
 },
 "nbformat": 4,
 "nbformat_minor": 2
}
